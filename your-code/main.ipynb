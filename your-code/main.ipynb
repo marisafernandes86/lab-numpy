{
 "cells": [
  {
   "cell_type": "markdown",
   "metadata": {},
   "source": [
    "# Intrduction to NumPy\n",
    "\n",
    "\n",
    "#### 1. Import NumPy under the name np."
   ]
  },
  {
   "cell_type": "code",
   "execution_count": 75,
   "metadata": {},
   "outputs": [],
   "source": [
    "# your code here\n",
    "import numpy as np"
   ]
  },
  {
   "cell_type": "markdown",
   "metadata": {},
   "source": [
    "#### 2. Print your NumPy version."
   ]
  },
  {
   "cell_type": "code",
   "execution_count": 7,
   "metadata": {},
   "outputs": [
    {
     "name": "stdout",
     "output_type": "stream",
     "text": [
      "1.18.5\n"
     ]
    }
   ],
   "source": [
    "# your code here\n",
    "print(np.__version__)"
   ]
  },
  {
   "cell_type": "markdown",
   "metadata": {},
   "source": [
    "#### 3. Generate a 2x3x5 3-dimensional array with random values. Assign the array to variable *a*.\n",
    "**Challenge**: there are at least three easy ways that use numpy to generate random arrays. How many ways can you find?"
   ]
  },
  {
   "cell_type": "code",
   "execution_count": 10,
   "metadata": {},
   "outputs": [],
   "source": [
    "# Method 1\n",
    "a = np.random.randn(2,3,5) "
   ]
  },
  {
   "cell_type": "code",
   "execution_count": null,
   "metadata": {},
   "outputs": [],
   "source": [
    "# Method 2"
   ]
  },
  {
   "cell_type": "code",
   "execution_count": null,
   "metadata": {},
   "outputs": [],
   "source": [
    "# Method 3"
   ]
  },
  {
   "cell_type": "markdown",
   "metadata": {},
   "source": [
    "#### 4. Print *a*.\n"
   ]
  },
  {
   "cell_type": "code",
   "execution_count": 11,
   "metadata": {},
   "outputs": [
    {
     "name": "stdout",
     "output_type": "stream",
     "text": [
      "[[[ 1.25454174  0.92986327  0.16030554 -0.32334455  0.27718766]\n",
      "  [ 0.3036097   0.84345489 -0.09605682 -2.64470918 -0.21267165]\n",
      "  [ 0.10888042  0.7117896  -0.33697247  0.47486574  0.01023044]]\n",
      "\n",
      " [[ 0.41766317 -0.40276368 -1.12868501  1.14609004 -0.56728269]\n",
      "  [-0.84542574  0.09144039  0.16488572 -1.28370762  3.05720259]\n",
      "  [-0.70086261 -0.89043317  0.29799849  0.93634769 -0.44980326]]]\n"
     ]
    }
   ],
   "source": [
    "# your code here\n",
    "print(a)"
   ]
  },
  {
   "cell_type": "markdown",
   "metadata": {},
   "source": [
    "#### 5. Create a 5x2x3 3-dimensional array with all values equaling 1. Assign the array to variable *b*."
   ]
  },
  {
   "cell_type": "code",
   "execution_count": 12,
   "metadata": {},
   "outputs": [],
   "source": [
    "# your code here\n",
    "b = np.ones((5,2,3)) "
   ]
  },
  {
   "cell_type": "markdown",
   "metadata": {},
   "source": [
    "#### 6. Print *b*.\n"
   ]
  },
  {
   "cell_type": "code",
   "execution_count": 13,
   "metadata": {},
   "outputs": [
    {
     "name": "stdout",
     "output_type": "stream",
     "text": [
      "[[[1. 1. 1.]\n",
      "  [1. 1. 1.]]\n",
      "\n",
      " [[1. 1. 1.]\n",
      "  [1. 1. 1.]]\n",
      "\n",
      " [[1. 1. 1.]\n",
      "  [1. 1. 1.]]\n",
      "\n",
      " [[1. 1. 1.]\n",
      "  [1. 1. 1.]]\n",
      "\n",
      " [[1. 1. 1.]\n",
      "  [1. 1. 1.]]]\n"
     ]
    }
   ],
   "source": [
    "# your code here\n",
    "print(b)"
   ]
  },
  {
   "cell_type": "markdown",
   "metadata": {},
   "source": [
    "#### 7. Do *a* and *b* have the same size? How do you prove that in Python code?"
   ]
  },
  {
   "cell_type": "code",
   "execution_count": 14,
   "metadata": {},
   "outputs": [
    {
     "data": {
      "text/plain": [
       "False"
      ]
     },
     "execution_count": 14,
     "metadata": {},
     "output_type": "execute_result"
    }
   ],
   "source": [
    "# your code here\n",
    "len(a) == len (b)"
   ]
  },
  {
   "cell_type": "markdown",
   "metadata": {},
   "source": [
    "#### 8. Are you able to add *a* and *b*? Why or why not?\n"
   ]
  },
  {
   "cell_type": "code",
   "execution_count": 15,
   "metadata": {},
   "outputs": [
    {
     "ename": "ValueError",
     "evalue": "operands could not be broadcast together with shapes (2,3,5) (5,2,3) ",
     "output_type": "error",
     "traceback": [
      "\u001b[1;31m---------------------------------------------------------------------------\u001b[0m",
      "\u001b[1;31mValueError\u001b[0m                                Traceback (most recent call last)",
      "\u001b[1;32m<ipython-input-15-719c982785dd>\u001b[0m in \u001b[0;36m<module>\u001b[1;34m\u001b[0m\n\u001b[0;32m      1\u001b[0m \u001b[1;31m# your answer here\u001b[0m\u001b[1;33m\u001b[0m\u001b[1;33m\u001b[0m\u001b[1;33m\u001b[0m\u001b[0m\n\u001b[1;32m----> 2\u001b[1;33m \u001b[0mx\u001b[0m \u001b[1;33m=\u001b[0m \u001b[0mnp\u001b[0m\u001b[1;33m.\u001b[0m\u001b[0madd\u001b[0m\u001b[1;33m(\u001b[0m\u001b[0ma\u001b[0m\u001b[1;33m,\u001b[0m\u001b[0mb\u001b[0m\u001b[1;33m)\u001b[0m\u001b[1;33m\u001b[0m\u001b[1;33m\u001b[0m\u001b[0m\n\u001b[0m\u001b[0;32m      3\u001b[0m \u001b[0mprint\u001b[0m \u001b[1;33m(\u001b[0m\u001b[0mx\u001b[0m\u001b[1;33m)\u001b[0m \u001b[1;31m#it won't be possible because one array is 2*3*5 and the other 5*2*3; they are different\u001b[0m\u001b[1;33m\u001b[0m\u001b[1;33m\u001b[0m\u001b[0m\n",
      "\u001b[1;31mValueError\u001b[0m: operands could not be broadcast together with shapes (2,3,5) (5,2,3) "
     ]
    }
   ],
   "source": [
    "# your answer here\n",
    "x = np.add(a,b)\n",
    "print (x) #it won't be possible because one array is 2*3*5 and the other 5*2*3; they are different"
   ]
  },
  {
   "cell_type": "markdown",
   "metadata": {},
   "source": [
    "#### 9. Transpose *b* so that it has the same structure of *a* (i.e. become a 2x3x5 array). Assign the transposed array to variable *c*."
   ]
  },
  {
   "cell_type": "code",
   "execution_count": 16,
   "metadata": {},
   "outputs": [
    {
     "name": "stdout",
     "output_type": "stream",
     "text": [
      "[[[1. 1. 1. 1. 1.]\n",
      "  [1. 1. 1. 1. 1.]\n",
      "  [1. 1. 1. 1. 1.]]\n",
      "\n",
      " [[1. 1. 1. 1. 1.]\n",
      "  [1. 1. 1. 1. 1.]\n",
      "  [1. 1. 1. 1. 1.]]]\n"
     ]
    }
   ],
   "source": [
    "# your code here\n",
    "c = b.reshape(2,3,5)\n",
    "print (c)"
   ]
  },
  {
   "cell_type": "markdown",
   "metadata": {},
   "source": [
    "#### 10. Try to add *a* and *c*. Now it should work. Assign the sum to variable *d*. But why does it work now?"
   ]
  },
  {
   "cell_type": "code",
   "execution_count": 63,
   "metadata": {},
   "outputs": [
    {
     "name": "stdout",
     "output_type": "stream",
     "text": [
      "[[[ 2.25454174  1.92986327  1.16030554  0.67665545  1.27718766]\n",
      "  [ 1.3036097   1.84345489  0.90394318 -1.64470918  0.78732835]\n",
      "  [ 1.10888042  1.7117896   0.66302753  1.47486574  1.01023044]]\n",
      "\n",
      " [[ 1.41766317  0.59723632 -0.12868501  2.14609004  0.43271731]\n",
      "  [ 0.15457426  1.09144039  1.16488572 -0.28370762  4.05720259]\n",
      "  [ 0.29913739  0.10956683  1.29799849  1.93634769  0.55019674]]]\n"
     ]
    }
   ],
   "source": [
    "# your code/answer here\n",
    "d = np.add(a,c)\n",
    "print (d)"
   ]
  },
  {
   "cell_type": "markdown",
   "metadata": {},
   "source": [
    "#### 11. Print *a* and *d*. Notice the difference and relation of the two array in terms of the values? Explain."
   ]
  },
  {
   "cell_type": "code",
   "execution_count": 64,
   "metadata": {},
   "outputs": [
    {
     "name": "stdout",
     "output_type": "stream",
     "text": [
      "a= [[[ 1.25454174  0.92986327  0.16030554 -0.32334455  0.27718766]\n",
      "  [ 0.3036097   0.84345489 -0.09605682 -2.64470918 -0.21267165]\n",
      "  [ 0.10888042  0.7117896  -0.33697247  0.47486574  0.01023044]]\n",
      "\n",
      " [[ 0.41766317 -0.40276368 -1.12868501  1.14609004 -0.56728269]\n",
      "  [-0.84542574  0.09144039  0.16488572 -1.28370762  3.05720259]\n",
      "  [-0.70086261 -0.89043317  0.29799849  0.93634769 -0.44980326]]]\n",
      "\n",
      "\n",
      "d= [[[ 2.25454174  1.92986327  1.16030554  0.67665545  1.27718766]\n",
      "  [ 1.3036097   1.84345489  0.90394318 -1.64470918  0.78732835]\n",
      "  [ 1.10888042  1.7117896   0.66302753  1.47486574  1.01023044]]\n",
      "\n",
      " [[ 1.41766317  0.59723632 -0.12868501  2.14609004  0.43271731]\n",
      "  [ 0.15457426  1.09144039  1.16488572 -0.28370762  4.05720259]\n",
      "  [ 0.29913739  0.10956683  1.29799849  1.93634769  0.55019674]]]\n"
     ]
    }
   ],
   "source": [
    "# your code/answer here\n",
    "print (\"a=\", a)\n",
    "print('\\n')\n",
    "print (\"d=\", d)\n",
    "\n",
    "#d is a result of the addition of a with c"
   ]
  },
  {
   "cell_type": "markdown",
   "metadata": {},
   "source": [
    "#### 12. Multiply *a* and *c*. Assign the result to *e*."
   ]
  },
  {
   "cell_type": "code",
   "execution_count": 65,
   "metadata": {},
   "outputs": [
    {
     "name": "stdout",
     "output_type": "stream",
     "text": [
      "[[[ 1.25454174  0.92986327  0.16030554 -0.32334455  0.27718766]\n",
      "  [ 0.3036097   0.84345489 -0.09605682 -2.64470918 -0.21267165]\n",
      "  [ 0.10888042  0.7117896  -0.33697247  0.47486574  0.01023044]]\n",
      "\n",
      " [[ 0.41766317 -0.40276368 -1.12868501  1.14609004 -0.56728269]\n",
      "  [-0.84542574  0.09144039  0.16488572 -1.28370762  3.05720259]\n",
      "  [-0.70086261 -0.89043317  0.29799849  0.93634769 -0.44980326]]]\n"
     ]
    }
   ],
   "source": [
    "# your code here\n",
    "e = np.multiply(a,c)\n",
    "print (e)"
   ]
  },
  {
   "cell_type": "markdown",
   "metadata": {},
   "source": [
    "#### 13. Does *e* equal to *a*? Why or why not?\n"
   ]
  },
  {
   "cell_type": "code",
   "execution_count": 66,
   "metadata": {},
   "outputs": [
    {
     "name": "stdout",
     "output_type": "stream",
     "text": [
      "a = [[[ 1.25454174  0.92986327  0.16030554 -0.32334455  0.27718766]\n",
      "  [ 0.3036097   0.84345489 -0.09605682 -2.64470918 -0.21267165]\n",
      "  [ 0.10888042  0.7117896  -0.33697247  0.47486574  0.01023044]]\n",
      "\n",
      " [[ 0.41766317 -0.40276368 -1.12868501  1.14609004 -0.56728269]\n",
      "  [-0.84542574  0.09144039  0.16488572 -1.28370762  3.05720259]\n",
      "  [-0.70086261 -0.89043317  0.29799849  0.93634769 -0.44980326]]]\n",
      "e = [[[ 1.25454174  0.92986327  0.16030554 -0.32334455  0.27718766]\n",
      "  [ 0.3036097   0.84345489 -0.09605682 -2.64470918 -0.21267165]\n",
      "  [ 0.10888042  0.7117896  -0.33697247  0.47486574  0.01023044]]\n",
      "\n",
      " [[ 0.41766317 -0.40276368 -1.12868501  1.14609004 -0.56728269]\n",
      "  [-0.84542574  0.09144039  0.16488572 -1.28370762  3.05720259]\n",
      "  [-0.70086261 -0.89043317  0.29799849  0.93634769 -0.44980326]]]\n"
     ]
    },
    {
     "data": {
      "text/plain": [
       "True"
      ]
     },
     "execution_count": 66,
     "metadata": {},
     "output_type": "execute_result"
    }
   ],
   "source": [
    "# your code/answer here\n",
    "print (\"a =\", a)\n",
    "('\\n')\n",
    "print (\"e =\", e)\n",
    "\n",
    "np.array_equal(a, e)\n",
    "\n",
    "    \n",
    "#a and e are equal. e is a result of a multiplication between a and c, and each value in c is equal to 1. a number multiplied by one remains the same."
   ]
  },
  {
   "cell_type": "markdown",
   "metadata": {},
   "source": [
    "14. Identify the max, min, and mean values in *d*. Assign those values to variables *d_max*, *d_min* and *d_mean*."
   ]
  },
  {
   "cell_type": "code",
   "execution_count": 67,
   "metadata": {},
   "outputs": [
    {
     "name": "stdout",
     "output_type": "stream",
     "text": [
      "Maximum of d: 4.0572025896022215\n",
      "Minimum of d: -1.6447091779012841\n",
      "Mean of d: 1.0434546219173926\n"
     ]
    }
   ],
   "source": [
    "# your code here\n",
    "d_max = np.max(d)\n",
    "print (\"Maximum of d:\", d_max)\n",
    "d_min = np.min(d)\n",
    "print (\"Minimum of d:\", d_min)\n",
    "d_mean = np.mean (d)\n",
    "print (\"Mean of d:\", d_mean)"
   ]
  },
  {
   "cell_type": "markdown",
   "metadata": {},
   "source": [
    "#### 15. Now we want to label the values in *d*. First create an empty array *f* with the same shape (i.e. 2x3x5) as *d* using `np.empty`.\n"
   ]
  },
  {
   "cell_type": "code",
   "execution_count": 68,
   "metadata": {
    "scrolled": true
   },
   "outputs": [
    {
     "name": "stdout",
     "output_type": "stream",
     "text": [
      "f= [[[1.25454174 0.92986327 0.16030554 0.32334455 0.27718766]\n",
      "  [0.3036097  0.84345489 0.09605682 2.64470918 0.21267165]\n",
      "  [0.10888042 0.7117896  0.33697247 0.47486574 0.01023044]]\n",
      "\n",
      " [[0.41766317 0.40276368 1.12868501 1.14609004 0.56728269]\n",
      "  [0.84542574 0.09144039 0.16488572 1.28370762 3.05720259]\n",
      "  [0.70086261 0.89043317 0.29799849 0.93634769 0.44980326]]]\n"
     ]
    }
   ],
   "source": [
    "# your code here\n",
    "f = np.empty ([2,3,5])\n",
    "print (\"f=\", f)"
   ]
  },
  {
   "cell_type": "markdown",
   "metadata": {},
   "source": [
    "#### 16. Populate the values in *f*. \n",
    "\n",
    "For each value in *d*, if it's larger than *d_min* but smaller than *d_mean*, assign 25 to the corresponding value in *f*. If a value in *d* is larger than *d_mean* but smaller than *d_max*, assign 75 to the corresponding value in *f*. If a value equals to *d_mean*, assign 50 to the corresponding value in *f*. Assign 0 to the corresponding value(s) in *f* for *d_min* in *d*. Assign 100 to the corresponding value(s) in *f* for *d_max* in *d*. In the end, f should have only the following values: 0, 25, 50, 75, and 100.\n",
    "\n",
    "**Note**: you don't have to use Numpy in this question."
   ]
  },
  {
   "cell_type": "code",
   "execution_count": 69,
   "metadata": {},
   "outputs": [
    {
     "name": "stdout",
     "output_type": "stream",
     "text": [
      "[[[ 75.  75.  75.  25.  75.]\n",
      "  [ 75.  75.  25.   0.  25.]\n",
      "  [ 75.  75.  25.  75.  25.]]\n",
      "\n",
      " [[ 75.  25.  25.  75.  25.]\n",
      "  [ 25.  75.  75.  25. 100.]\n",
      "  [ 25.  25.  75.  75.  25.]]]\n"
     ]
    }
   ],
   "source": [
    "#2x3x5 array\n",
    "\n",
    "index_x = 0\n",
    "for x in d:    \n",
    "    index_y = 0\n",
    "    for y in x:\n",
    "        index_z = 0\n",
    "        for z in y:\n",
    "            #print(z)\n",
    "            if (z>d_min and z<d_mean):\n",
    "                f[index_x,index_y,index_z] = 25\n",
    "            if (z>d_mean and z<d_max):\n",
    "                f[index_x,index_y,index_z] = 75\n",
    "            if (z == d_mean):\n",
    "                f[index_x,index_y,index_z] = 50\n",
    "            if (z == d_min):\n",
    "                f[index_x,index_y,index_z] = 0\n",
    "            if (z == d_max):\n",
    "                f[index_x,index_y,index_z] = 100\n",
    "            index_z = index_z + 1 \n",
    "        index_y = index_y + 1       \n",
    "    index_x = index_x + 1           \n",
    "\n",
    "print(f)\n",
    "\n",
    "\n",
    "\n",
    "\n",
    "\n",
    "\n",
    "\n"
   ]
  },
  {
   "cell_type": "markdown",
   "metadata": {},
   "source": [
    "#### 17. Print *d* and *f*. Do you have your expected *f*?\n",
    "For instance, if your *d* is:\n",
    "```python\n",
    "[[[1.85836099, 1.67064465, 1.62576044, 1.40243961, 1.88454931],\n",
    "[1.75354326, 1.69403643, 1.36729252, 1.61415071, 1.12104981],\n",
    "[1.72201435, 1.1862918 , 1.87078449, 1.7726778 , 1.88180042]],\n",
    "[[1.44747908, 1.31673383, 1.02000951, 1.52218947, 1.97066381],\n",
    "[1.79129243, 1.74983003, 1.96028037, 1.85166831, 1.65450881],\n",
    "[1.18068344, 1.9587381 , 1.00656599, 1.93402165, 1.73514584]]]\n",
    "```\n",
    "Your *f* should be:\n",
    "```python\n",
    "[[[ 75.,  75.,  75.,  25.,  75.],\n",
    "[ 75.,  75.,  25.,  25.,  25.],\n",
    "[ 75.,  25.,  75.,  75.,  75.]],\n",
    "[[ 25.,  25.,  25.,  25., 100.],\n",
    "[ 75.,  75.,  75.,  75.,  75.],\n",
    "[ 25.,  75.,   0.,  75.,  75.]]]\n",
    "```"
   ]
  },
  {
   "cell_type": "code",
   "execution_count": 70,
   "metadata": {},
   "outputs": [
    {
     "name": "stdout",
     "output_type": "stream",
     "text": [
      "[[[ 2.25454174  1.92986327  1.16030554  0.67665545  1.27718766]\n",
      "  [ 1.3036097   1.84345489  0.90394318 -1.64470918  0.78732835]\n",
      "  [ 1.10888042  1.7117896   0.66302753  1.47486574  1.01023044]]\n",
      "\n",
      " [[ 1.41766317  0.59723632 -0.12868501  2.14609004  0.43271731]\n",
      "  [ 0.15457426  1.09144039  1.16488572 -0.28370762  4.05720259]\n",
      "  [ 0.29913739  0.10956683  1.29799849  1.93634769  0.55019674]]]\n",
      "[[[ 1.25454174  0.92986327  0.16030554 -0.32334455  0.27718766]\n",
      "  [ 0.3036097   0.84345489 -0.09605682 -2.64470918 -0.21267165]\n",
      "  [ 0.10888042  0.7117896  -0.33697247  0.47486574  0.01023044]]\n",
      "\n",
      " [[ 0.41766317 -0.40276368 -1.12868501  1.14609004 -0.56728269]\n",
      "  [-0.84542574  0.09144039  0.16488572 -1.28370762  3.05720259]\n",
      "  [-0.70086261 -0.89043317  0.29799849  0.93634769 -0.44980326]]]\n"
     ]
    }
   ],
   "source": [
    "# your code here\n",
    "print (d)\n",
    "print (e)"
   ]
  },
  {
   "cell_type": "markdown",
   "metadata": {},
   "source": [
    "#### 18. Bonus question: instead of using numbers (i.e. 0, 25, 50, 75, and 100), use string values  (\"A\", \"B\", \"C\", \"D\", and \"E\") to label the array elements. For the example above, the expected result is:\n",
    "\n",
    "```python\n",
    "[[[ 'D',  'D',  'D',  'B',  'D'],\n",
    "[ 'D',  'D',  'B',  'B',  'B'],\n",
    "[ 'D',  'B',  'D',  'D',  'D']],\n",
    "[[ 'B',  'B',  'B',  'B',  'E'],\n",
    "[ 'D',  'D',  'D',  'D',  'D'],\n",
    "[ 'B',  'D',   'A',  'D', 'D']]]\n",
    "```\n",
    "**Note**: you don't have to use Numpy in this question."
   ]
  },
  {
   "cell_type": "markdown",
   "metadata": {},
   "source": [
    "\n"
   ]
  },
  {
   "cell_type": "code",
   "execution_count": 80,
   "metadata": {},
   "outputs": [
    {
     "name": "stdout",
     "output_type": "stream",
     "text": [
      "[[[b'D' b'D' b'D' b'B' b'D']\n",
      "  [b'D' b'D' b'B' b'A' b'B']\n",
      "  [b'D' b'D' b'B' b'D' b'B']]\n",
      "\n",
      " [[b'D' b'B' b'B' b'D' b'B']\n",
      "  [b'B' b'D' b'D' b'B' b'E']\n",
      "  [b'B' b'B' b'D' b'D' b'B']]]\n"
     ]
    }
   ],
   "source": [
    "#2x3x5 array\n",
    "\n",
    "k = np.chararray((2, 3, 5))\n",
    "index_x = 0\n",
    "for x in d:    \n",
    "    index_y = 0\n",
    "    for y in x:\n",
    "        index_z = 0\n",
    "        for z in y:\n",
    "            #print(z)\n",
    "            if (z>d_min and z<d_mean):\n",
    "                k[index_x,index_y,index_z] = \"B\"\n",
    "            if (z>d_mean and z<d_max):\n",
    "                k[index_x,index_y,index_z] = \"D\"\n",
    "            if (z == d_mean):\n",
    "                k[index_x,index_y,index_z] = \"C\"\n",
    "            if (z == d_min):\n",
    "                k[index_x,index_y,index_z] = \"A\"\n",
    "            if (z == d_max):\n",
    "                k[index_x,index_y,index_z] = \"E\"\n",
    "            index_z = index_z + 1 \n",
    "        index_y = index_y + 1       \n",
    "    index_x = index_x + 1           \n",
    "\n",
    "print(k)"
   ]
  },
  {
   "cell_type": "code",
   "execution_count": null,
   "metadata": {},
   "outputs": [],
   "source": []
  }
 ],
 "metadata": {
  "kernelspec": {
   "display_name": "Python 3",
   "language": "python",
   "name": "python3"
  },
  "language_info": {
   "codemirror_mode": {
    "name": "ipython",
    "version": 3
   },
   "file_extension": ".py",
   "mimetype": "text/x-python",
   "name": "python",
   "nbconvert_exporter": "python",
   "pygments_lexer": "ipython3",
   "version": "3.8.3"
  }
 },
 "nbformat": 4,
 "nbformat_minor": 2
}
